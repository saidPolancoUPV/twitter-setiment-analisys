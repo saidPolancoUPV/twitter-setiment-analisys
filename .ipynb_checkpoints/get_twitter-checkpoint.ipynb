{
 "cells": [
  {
   "cell_type": "code",
   "execution_count": 2,
   "metadata": {},
   "outputs": [],
   "source": [
    "import twitter\n",
    "\n",
    "consumer_key = \"HgHkqGdsw6RgDleDY1H270cDZ\"\n",
    "consumer_secret = \"OoXvQuWRuVGuPGaxXT52MpQy6tBXmPdpUpUXogFYJKh2grhPNg\"\n",
    "access_token = \"719705062172438528-AIansakIyrceLtwNBgf83Jj4NnSXGW4\"\n",
    "access_token_secret = \"Tw4909hqPL0XV0eMSwAM9v3NWAURBDiJFRop4etb4DN2P\"\n",
    "authorization = twitter.OAuth(access_token, access_token_secret, consumer_key, consumer_secret)"
   ]
  },
  {
   "cell_type": "code",
   "execution_count": 3,
   "metadata": {},
   "outputs": [],
   "source": [
    "import os\n",
    "import json\n",
    "\n",
    "output_filename = os.path.join(os.path.expanduser(\"~\"), \"Data\", \"twitter\",\n",
    "                               \"python_tweets.json\")\n",
    "t = twitter.Twitter(auth=authorization)"
   ]
  },
  {
   "cell_type": "code",
   "execution_count": 5,
   "metadata": {},
   "outputs": [],
   "source": [
    "with open(output_filename, 'a') as output_filename:\n",
    "    search_result = t.search.tweets(q=\"python\", count=100)['statuses']\n",
    "    for tweet in search_result:\n",
    "        if 'text' in tweet:\n",
    "            output_filename.write(json.dumps(tweet))\n",
    "            output_filename.write(\"\\n\\n\")"
   ]
  },
  {
   "cell_type": "code",
   "execution_count": null,
   "metadata": {},
   "outputs": [],
   "source": [
    "input_filename = os.path.join(os.path.expanduser(\"~\"), \"Data\", \"twitter\",\n",
    "                              \"python_tweets.json\")\n",
    "labels_filename = os.path.join(os.path.expanduser(\"~\"), \"Data\", \"twitter\",\n",
    "                               \"python_classes.json\")\n",
    "\n",
    "tweets = []\n",
    "\n"
   ]
  }
 ],
 "metadata": {
  "kernelspec": {
   "display_name": "Python 3",
   "language": "python",
   "name": "python3"
  },
  "language_info": {
   "codemirror_mode": {
    "name": "ipython",
    "version": 3
   },
   "file_extension": ".py",
   "mimetype": "text/x-python",
   "name": "python",
   "nbconvert_exporter": "python",
   "pygments_lexer": "ipython3",
   "version": "3.6.7"
  }
 },
 "nbformat": 4,
 "nbformat_minor": 2
}
